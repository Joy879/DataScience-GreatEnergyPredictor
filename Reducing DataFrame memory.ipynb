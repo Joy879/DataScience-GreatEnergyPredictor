{
 "cells": [
  {
   "cell_type": "code",
   "execution_count": 1,
   "metadata": {},
   "outputs": [],
   "source": [
    "import numpy as np\n",
    "import pandas as pd"
   ]
  },
  {
   "cell_type": "code",
   "execution_count": 2,
   "metadata": {},
   "outputs": [
    {
     "name": "stdout",
     "output_type": "stream",
     "text": [
      "CPU times: user 6.15 s, sys: 959 ms, total: 7.11 s\n",
      "Wall time: 7.23 s\n"
     ]
    }
   ],
   "source": [
    "%%time\n",
    "df = pd.read_csv('./ashrae-energy-prediction/train.csv')"
   ]
  },
  {
   "cell_type": "code",
   "execution_count": 3,
   "metadata": {},
   "outputs": [
    {
     "name": "stdout",
     "output_type": "stream",
     "text": [
      "<class 'pandas.core.frame.DataFrame'>\n",
      "RangeIndex: 20216100 entries, 0 to 20216099\n",
      "Data columns (total 4 columns):\n",
      "building_id      int64\n",
      "meter            int64\n",
      "timestamp        object\n",
      "meter_reading    float64\n",
      "dtypes: float64(1), int64(2), object(1)\n",
      "memory usage: 1.9 GB\n"
     ]
    }
   ],
   "source": [
    "df.info(memory_usage=\"deep\")\n",
    "newdf = df.copy()"
   ]
  },
  {
   "cell_type": "code",
   "execution_count": 4,
   "metadata": {},
   "outputs": [
    {
     "data": {
      "text/plain": [
       "Index               0.000128\n",
       "building_id       161.728800\n",
       "meter             161.728800\n",
       "timestamp        1536.423600\n",
       "meter_reading     161.728800\n",
       "dtype: float64"
      ]
     },
     "execution_count": 4,
     "metadata": {},
     "output_type": "execute_result"
    }
   ],
   "source": [
    "df.memory_usage(deep=True) * 1e-6"
   ]
  },
  {
   "cell_type": "code",
   "execution_count": 5,
   "metadata": {},
   "outputs": [],
   "source": [
    "df['timestamp'] = pd.to_datetime(df['timestamp'])"
   ]
  },
  {
   "cell_type": "code",
   "execution_count": 6,
   "metadata": {},
   "outputs": [
    {
     "data": {
      "text/plain": [
       "Index              0.000128\n",
       "building_id      161.728800\n",
       "meter            161.728800\n",
       "timestamp        161.728800\n",
       "meter_reading    161.728800\n",
       "dtype: float64"
      ]
     },
     "execution_count": 6,
     "metadata": {},
     "output_type": "execute_result"
    }
   ],
   "source": [
    "df.memory_usage(deep=True) * 1e-6"
   ]
  },
  {
   "cell_type": "code",
   "execution_count": 7,
   "metadata": {},
   "outputs": [
    {
     "data": {
      "text/html": [
       "<div>\n",
       "<style scoped>\n",
       "    .dataframe tbody tr th:only-of-type {\n",
       "        vertical-align: middle;\n",
       "    }\n",
       "\n",
       "    .dataframe tbody tr th {\n",
       "        vertical-align: top;\n",
       "    }\n",
       "\n",
       "    .dataframe thead th {\n",
       "        text-align: right;\n",
       "    }\n",
       "</style>\n",
       "<table border=\"1\" class=\"dataframe\">\n",
       "  <thead>\n",
       "    <tr style=\"text-align: right;\">\n",
       "      <th></th>\n",
       "      <th>building_id</th>\n",
       "      <th>meter</th>\n",
       "      <th>timestamp</th>\n",
       "      <th>meter_reading</th>\n",
       "    </tr>\n",
       "  </thead>\n",
       "  <tbody>\n",
       "    <tr>\n",
       "      <th>0</th>\n",
       "      <td>0</td>\n",
       "      <td>0</td>\n",
       "      <td>2016-01-01</td>\n",
       "      <td>0.0</td>\n",
       "    </tr>\n",
       "    <tr>\n",
       "      <th>1</th>\n",
       "      <td>1</td>\n",
       "      <td>0</td>\n",
       "      <td>2016-01-01</td>\n",
       "      <td>0.0</td>\n",
       "    </tr>\n",
       "    <tr>\n",
       "      <th>2</th>\n",
       "      <td>2</td>\n",
       "      <td>0</td>\n",
       "      <td>2016-01-01</td>\n",
       "      <td>0.0</td>\n",
       "    </tr>\n",
       "    <tr>\n",
       "      <th>3</th>\n",
       "      <td>3</td>\n",
       "      <td>0</td>\n",
       "      <td>2016-01-01</td>\n",
       "      <td>0.0</td>\n",
       "    </tr>\n",
       "    <tr>\n",
       "      <th>4</th>\n",
       "      <td>4</td>\n",
       "      <td>0</td>\n",
       "      <td>2016-01-01</td>\n",
       "      <td>0.0</td>\n",
       "    </tr>\n",
       "  </tbody>\n",
       "</table>\n",
       "</div>"
      ],
      "text/plain": [
       "   building_id  meter  timestamp  meter_reading\n",
       "0            0      0 2016-01-01            0.0\n",
       "1            1      0 2016-01-01            0.0\n",
       "2            2      0 2016-01-01            0.0\n",
       "3            3      0 2016-01-01            0.0\n",
       "4            4      0 2016-01-01            0.0"
      ]
     },
     "execution_count": 7,
     "metadata": {},
     "output_type": "execute_result"
    }
   ],
   "source": [
    "df.head()"
   ]
  },
  {
   "cell_type": "code",
   "execution_count": 15,
   "metadata": {},
   "outputs": [],
   "source": [
    "df['building_id'] = df['building_id'].astype(\"int32\")\n",
    "df['meter_reading'] = df['meter_reading'].astype(\"float32\")\n",
    "df['meter'] = df['meter'].astype(\"int16\")"
   ]
  },
  {
   "cell_type": "code",
   "execution_count": 16,
   "metadata": {},
   "outputs": [
    {
     "data": {
      "text/plain": [
       "Index              0.000128\n",
       "building_id       80.864400\n",
       "meter             40.432200\n",
       "timestamp        161.728800\n",
       "meter_reading     80.864400\n",
       "dtype: float64"
      ]
     },
     "execution_count": 16,
     "metadata": {},
     "output_type": "execute_result"
    }
   ],
   "source": [
    "df.memory_usage(deep=True) * 1e-6"
   ]
  },
  {
   "cell_type": "code",
   "execution_count": 17,
   "metadata": {},
   "outputs": [
    {
     "name": "stdout",
     "output_type": "stream",
     "text": [
      "<class 'pandas.core.frame.DataFrame'>\n",
      "RangeIndex: 20216100 entries, 0 to 20216099\n",
      "Data columns (total 4 columns):\n",
      "building_id      int32\n",
      "meter            int16\n",
      "timestamp        datetime64[ns]\n",
      "meter_reading    float32\n",
      "dtypes: datetime64[ns](1), float32(1), int16(1), int32(1)\n",
      "memory usage: 347.0 MB\n"
     ]
    }
   ],
   "source": [
    "df.info(memory_usage=\"deep\")"
   ]
  },
  {
   "cell_type": "code",
   "execution_count": 11,
   "metadata": {},
   "outputs": [],
   "source": [
    "import gc\n",
    "import psutil"
   ]
  },
  {
   "cell_type": "code",
   "execution_count": 12,
   "metadata": {},
   "outputs": [
    {
     "data": {
      "text/plain": [
       "svmem(total=8589934592, available=3202998272, percent=62.7, used=4774748160, free=177786880, active=3026677760, inactive=3020464128, wired=1748070400)"
      ]
     },
     "execution_count": 12,
     "metadata": {},
     "output_type": "execute_result"
    }
   ],
   "source": [
    "psutil.virtual_memory()"
   ]
  },
  {
   "cell_type": "code",
   "execution_count": 13,
   "metadata": {},
   "outputs": [
    {
     "data": {
      "text/plain": [
       "80"
      ]
     },
     "execution_count": 13,
     "metadata": {},
     "output_type": "execute_result"
    }
   ],
   "source": [
    "gc.collect()"
   ]
  },
  {
   "cell_type": "code",
   "execution_count": 14,
   "metadata": {},
   "outputs": [
    {
     "data": {
      "text/plain": [
       "svmem(total=8589934592, available=3202674688, percent=62.7, used=4775079936, free=177459200, active=3026948096, inactive=3020464128, wired=1748131840)"
      ]
     },
     "execution_count": 14,
     "metadata": {},
     "output_type": "execute_result"
    }
   ],
   "source": [
    "psutil.virtual_memory()"
   ]
  },
  {
   "cell_type": "code",
   "execution_count": null,
   "metadata": {},
   "outputs": [],
   "source": []
  },
  {
   "cell_type": "code",
   "execution_count": 33,
   "metadata": {},
   "outputs": [
    {
     "name": "stdout",
     "output_type": "stream",
     "text": [
      "1_-_EDS_Project_Planning_Worksheet.pdf Reducing DataFrame memory.ipynb\r\n",
      "3_-_EDS_Execution_Checklist.pdf        \u001b[34mashrae-energy-prediction\u001b[m\u001b[m\r\n",
      "DataScience_Project_Template.ipynb\r\n"
     ]
    }
   ],
   "source": [
    "!ls"
   ]
  },
  {
   "cell_type": "code",
   "execution_count": 34,
   "metadata": {},
   "outputs": [
    {
     "name": "stdout",
     "output_type": "stream",
     "text": [
      "total 728\r\n",
      "drwxr-xr-x  10 akshaypatel  staff     320 Oct 25 15:56 \u001b[34m.\u001b[m\u001b[m\r\n",
      "drwxr-xr-x  21 akshaypatel  staff     672 Oct 25 15:56 \u001b[34m..\u001b[m\u001b[m\r\n",
      "-rw-r--r--@  1 akshaypatel  staff    6148 Oct 23 14:44 .DS_Store\r\n",
      "drwxr-xr-x  11 akshaypatel  staff     352 Oct 25 15:56 \u001b[34m.git\u001b[m\u001b[m\r\n",
      "drwxr-xr-x   4 akshaypatel  staff     128 Oct 25 15:48 \u001b[34m.ipynb_checkpoints\u001b[m\u001b[m\r\n",
      "-rw-r--r--@  1 akshaypatel  staff  133619 Oct 23 14:44 1_-_EDS_Project_Planning_Worksheet.pdf\r\n",
      "-rw-r--r--@  1 akshaypatel  staff  158042 Oct 20 01:45 3_-_EDS_Execution_Checklist.pdf\r\n",
      "-rw-r--r--@  1 akshaypatel  staff   54366 Oct 24 12:41 DataScience_Project_Template.ipynb\r\n",
      "-rw-r--r--   1 akshaypatel  staff    9890 Oct 25 15:55 Reducing DataFrame memory.ipynb\r\n",
      "drwxr-xr-x   8 akshaypatel  staff     256 Oct 20 03:24 \u001b[34mashrae-energy-prediction\u001b[m\u001b[m\r\n"
     ]
    }
   ],
   "source": [
    "!ls -al"
   ]
  },
  {
   "cell_type": "code",
   "execution_count": 37,
   "metadata": {},
   "outputs": [
    {
     "name": "stdout",
     "output_type": "stream",
     "text": [
      "Initialized empty Git repository in /Users/akshaypatel/Desktop/STORE/EDS/Capstone Project/.git/\r\n"
     ]
    }
   ],
   "source": [
    "!git init "
   ]
  },
  {
   "cell_type": "code",
   "execution_count": 38,
   "metadata": {},
   "outputs": [
    {
     "name": "stdout",
     "output_type": "stream",
     "text": [
      "^C\r\n"
     ]
    }
   ],
   "source": []
  },
  {
   "cell_type": "code",
   "execution_count": null,
   "metadata": {},
   "outputs": [],
   "source": []
  }
 ],
 "metadata": {
  "kernelspec": {
   "display_name": "Python 3",
   "language": "python",
   "name": "python3"
  },
  "language_info": {
   "codemirror_mode": {
    "name": "ipython",
    "version": 3
   },
   "file_extension": ".py",
   "mimetype": "text/x-python",
   "name": "python",
   "nbconvert_exporter": "python",
   "pygments_lexer": "ipython3",
   "version": "3.7.3"
  }
 },
 "nbformat": 4,
 "nbformat_minor": 2
}
